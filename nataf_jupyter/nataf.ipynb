{
  "cells": [
    {
      "cell_type": "markdown",
      "metadata": {},
      "source": [
        "\n# Nataf\n"
      ]
    },
    {
      "cell_type": "markdown",
      "metadata": {},
      "source": [
        "We'll be using UQpy's Nataf transformation functionalities. We also use Matplotlib to display results graphically.\n\nAdditionally, this demonstration opts to use Numpy's random state management to ensure that results are reproducible\nbetween notebook runs.\n\n"
      ]
    },
    {
      "cell_type": "code",
      "execution_count": null,
      "metadata": {
        "collapsed": false
      },
      "outputs": [],
      "source": [
        "from UQpy.transformations import Nataf\nimport numpy as np\nimport matplotlib.pyplot as plt\nfrom UQpy.distributions import Normal, Gamma, Lognormal\nfrom UQpy.transformations import Decorrelate, Correlate"
      ]
    },
    {
      "cell_type": "markdown",
      "metadata": {},
      "source": [
        "We will start by constructing two non-Gaussian random variables. The first one, follows a :code:`Gamma` distribution\n:code:`dist1`,  while the second one follows a :code:`Lognormal` distribution  :code:`dist2`.\nThe two distributions are correlated according to the correlation matrix :code:`Rx`.\n\n"
      ]
    },
    {
      "cell_type": "code",
      "execution_count": null,
      "metadata": {
        "collapsed": false
      },
      "outputs": [],
      "source": [
        "dist1 = Gamma(4.0, loc=0.0, scale=1.0)\ndist2 = Lognormal(s=2., loc=0., scale=np.exp(1))\nRx = np.array([[1.0, 0.9], [0.9, 1.0]])"
      ]
    },
    {
      "cell_type": "markdown",
      "metadata": {},
      "source": [
        "Next, we'll construct a :code:`Nataf` object :code:`nataf_obj`. Here, we provide the distribution of the random\nvariables :code:`distributions` and the correlation matrix :code:`corr_x` in the parameter space.\n\n"
      ]
    },
    {
      "cell_type": "code",
      "execution_count": null,
      "metadata": {
        "collapsed": false
      },
      "outputs": [],
      "source": [
        "nataf_obj = Nataf(distributions=[dist1, dist2], corr_x=Rx)"
      ]
    },
    {
      "cell_type": "markdown",
      "metadata": {},
      "source": [
        "We can use the :code:`rvs` method of the :code:`nataf_obj` object to draw random samples from the two distributions.\n\n"
      ]
    },
    {
      "cell_type": "code",
      "execution_count": null,
      "metadata": {
        "collapsed": false
      },
      "outputs": [],
      "source": [
        "samples_x = nataf_obj.rvs(1000)"
      ]
    },
    {
      "cell_type": "markdown",
      "metadata": {},
      "source": [
        "We can visualize the samples by plotting them on axes of each distribution's range.\n\n"
      ]
    },
    {
      "cell_type": "code",
      "execution_count": null,
      "metadata": {
        "collapsed": false
      },
      "outputs": [],
      "source": [
        "plt.figure()\nplt.title('non-Gaussian random variables')\nplt.scatter(samples_x[:, 0], samples_x[:, 1])\nplt.grid(True)\nplt.xlabel('$X_1$')\nplt.ylabel('$X_2$')\nplt.show()"
      ]
    },
    {
      "cell_type": "markdown",
      "metadata": {},
      "source": [
        "We can invoke the :code:`run` method of the :code:`nataf_obj` object to transform the non-Gaussian random variables\nfrom space :code:`X`to the correlated standard normal space :code:`Z`. Here, we provide as :code:`boolean (True)` an\noptional attribute :code:`jacobian` to calculate the Jacobian of the transformation. The distorted correlation matrix\ncan be accessed in the attribute :code:`corr_z`\n\n"
      ]
    },
    {
      "cell_type": "code",
      "execution_count": null,
      "metadata": {
        "collapsed": false
      },
      "outputs": [],
      "source": [
        "nataf_obj.run(samples_x=samples_x, jacobian=True)\nprint(nataf_obj.corr_z)"
      ]
    },
    {
      "cell_type": "markdown",
      "metadata": {},
      "source": [
        "We can visualize the correlated (standard normal) samples by plotting them on axes of each distribution's range.\n\n"
      ]
    },
    {
      "cell_type": "code",
      "execution_count": null,
      "metadata": {
        "collapsed": false
      },
      "outputs": [],
      "source": [
        "plt.figure()\nplt.title('Correlated standard normal samples')\nplt.scatter(nataf_obj.samples_z[:, 0], nataf_obj.samples_z[:, 1])\nplt.grid(True)\nplt.xlabel('$Z_1$')\nplt.ylabel('$Z_2$')\nplt.show()"
      ]
    },
    {
      "cell_type": "markdown",
      "metadata": {},
      "source": [
        "We can use the :code:`Decorrelate` class to transform the correlated standard normal samples to the uncorrelated\nstandard normal space :code:`U`.\n\n"
      ]
    },
    {
      "cell_type": "code",
      "execution_count": null,
      "metadata": {
        "collapsed": false
      },
      "outputs": [],
      "source": [
        "samples_u = Decorrelate(nataf_obj.samples_z, nataf_obj.corr_z).samples_u"
      ]
    },
    {
      "cell_type": "markdown",
      "metadata": {},
      "source": [
        "We can visualize the uncorrelated (standard normal) samples by plotting them on axes of each distribution's range.\n\n"
      ]
    },
    {
      "cell_type": "code",
      "execution_count": null,
      "metadata": {
        "collapsed": false
      },
      "outputs": [],
      "source": [
        "plt.figure()\nplt.title('Uncorrelated standard normal samples')\nplt.scatter(samples_u[:, 0], samples_u[:, 1])\nplt.grid(True)\nplt.xlabel('$U_1$')\nplt.ylabel('$U_2$')\nplt.show()"
      ]
    },
    {
      "cell_type": "markdown",
      "metadata": {},
      "source": [
        "We can use the :code:`Correlate` class to transform the uncorrelated standard normal samples back to the correlated\nstandard normal space :code:`Z`.\n\n"
      ]
    },
    {
      "cell_type": "code",
      "execution_count": null,
      "metadata": {
        "collapsed": false
      },
      "outputs": [],
      "source": [
        "samples_z = Correlate(samples_u, nataf_obj.corr_z).samples_z"
      ]
    },
    {
      "cell_type": "markdown",
      "metadata": {},
      "source": [
        "We can visualize the correlated (standard normal) samples by plotting them on axes of each distribution's range.\n\n"
      ]
    },
    {
      "cell_type": "code",
      "execution_count": null,
      "metadata": {
        "collapsed": false
      },
      "outputs": [],
      "source": [
        "plt.figure()\nplt.title('Correlated standard normal samples')\nplt.scatter(samples_z[:, 0], samples_z[:, 1])\nplt.grid(True)\nplt.xlabel('$U_1$')\nplt.ylabel('$U_2$')\nplt.show()"
      ]
    },
    {
      "cell_type": "markdown",
      "metadata": {},
      "source": [
        "In the second example, we will calculate the distortion of the correlation coefficient (in the standard normal space)\nas a function of the correlation coefficient (in the parameter space).  To this end, we consider N=20 values for the\nlatter, ranging from -0.999 to 0.999. We do not consider the values -1 and 1 since they result in numerical\ninstabilities.\n\n"
      ]
    },
    {
      "cell_type": "code",
      "execution_count": null,
      "metadata": {
        "collapsed": false
      },
      "outputs": [],
      "source": [
        "N = 20\nw3 = np.zeros(N)\nrho = np.linspace(-0.999, 0.999, N)\nfor i in range(N):\n    Rho1 = np.array([[1.0, rho[i]], [rho[i], 1.0]])\n    ww = Nataf([dist1, dist2], corr_x=Rho1).corr_z\n    w3[i] = ww[0, 1]\n\nplt.plot(rho, w3)\nplt.xlabel('rho_X')\nplt.ylabel('rho_Z')\nplt.show()"
      ]
    },
    {
      "cell_type": "markdown",
      "metadata": {},
      "source": [
        "In the third example, we will calculate the distortion of the correlation coefficient (in the parameter space) as a\nfunction of the correlation coefficient (in the standard normal space).  To this end, we consider N=20 values for the\nlatter, ranging from -0.999 to 0.999. We do not consider the values -1 and 1 since they result in numerical\ninstabilities.\n\n"
      ]
    },
    {
      "cell_type": "code",
      "execution_count": null,
      "metadata": {
        "collapsed": false
      },
      "outputs": [],
      "source": [
        "w4 = np.zeros(N)\nrho = np.linspace(-0.999, 0.999, N)\nfor i in range(N):\n    Rho1 = np.array([[1.0, rho[i]], [rho[i], 1.0]])\n    ww = Nataf(distributions=[dist1, dist2], corr_z=Rho1).corr_x\n    w4[i] = ww[0, 1]\n\nplt.plot(rho, w4)\nplt.plot(rho, rho)\nplt.show()"
      ]
    }
  ],
  "metadata": {
    "kernelspec": {
      "display_name": "Python 3",
      "language": "python",
      "name": "python3"
    },
    "language_info": {
      "codemirror_mode": {
        "name": "ipython",
        "version": 3
      },
      "file_extension": ".py",
      "mimetype": "text/x-python",
      "name": "python",
      "nbconvert_exporter": "python",
      "pygments_lexer": "ipython3",
      "version": "3.9.22"
    }
  },
  "nbformat": 4,
  "nbformat_minor": 0
}