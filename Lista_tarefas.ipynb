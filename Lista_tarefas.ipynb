{
 "cells": [],
 "metadata": {
  "kernelspec": {
   "display_name": "Python (confiabilidade_env)",
   "language": "python",
   "name": "confiabilidade_env"
  },
  "language_info": {
   "name": "python",
   "version": "3.13.7"
  }
 },
 "nbformat": 4,
 "nbformat_minor": 5
}
